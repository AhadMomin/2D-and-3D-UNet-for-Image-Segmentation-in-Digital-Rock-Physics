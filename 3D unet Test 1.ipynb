{
 "cells": [
  {
   "cell_type": "markdown",
   "metadata": {},
   "source": [
    "### 3D UNet for Image Segmentation in Digital Rock Petrophysics\n",
    "#### Ahad Momin (ahadmomin16@gmail.com)\n",
    "##### [GitHub](https://github.com/AhadMomin) | [Website](http://ahadmomin.github.io) |\n",
    "#### Supervisor: Christoph Arns & Masa Prodanovic\n",
    "#### Digital Rock Petrophysics\n",
    "\n",
    "### 3D UNet:\n",
    "#### The UNet Architecture is inspired by:  | [U-Net: Convolutional Networks for Biomedical Image Segmentation](https://link.springer.com/chapter/10.1007/978-3-319-46723-8_49) |\n",
    "\n",
    "#### 3D UNet Model:\n",
    "\n",
    "\n",
    "\n",
    "\n",
    "This deep neural network is implemented with Tensorflow and Keras functional API, which makes it extremely easy to experiment with different interesting architectures using GPU based enivronment\n",
    "\n",
    "\n",
    "#### Import Required Packages\n",
    "\n",
    "We will also need some standard packages. These should have been installed with Anaconda 3.\n",
    "\n",
    "#### Load the required libraries\n",
    "\n",
    "The following code loads the required libraries.\n",
    "\n",
    "Some of the workflow Style is inspired by: Prof Micheal Pyrcz"
   ]
  },
  {
   "cell_type": "code",
   "execution_count": 1,
   "metadata": {},
   "outputs": [
    {
     "name": "stderr",
     "output_type": "stream",
     "text": [
      "Using TensorFlow backend.\n"
     ]
    }
   ],
   "source": [
    "import os\n",
    "import random\n",
    "import tifffile as tff\n",
    "import pandas as pd\n",
    "import numpy as np\n",
    "import matplotlib.pyplot as plt\n",
    "\n",
    "from tqdm import notebook, tnrange\n",
    "from skimage.io import imread\n",
    "from skimage.transform import resize\n",
    "from sklearn.model_selection import train_test_split\n",
    "\n",
    "import tensorflow as tf\n",
    "import cv2\n",
    "\n",
    "from keras.preprocessing.image import ImageDataGenerator, array_to_img, img_to_array, load_img\n",
    "import keras\n",
    "import imageio as imi"
   ]
  },
  {
   "cell_type": "code",
   "execution_count": 2,
   "metadata": {},
   "outputs": [],
   "source": [
    "os.chdir(\"C:/Users/ahadm/Documents/UNSW Research/image segmentation CNN/UNET CNN/\")"
   ]
  },
  {
   "cell_type": "code",
   "execution_count": 3,
   "metadata": {},
   "outputs": [
    {
     "name": "stdout",
     "output_type": "stream",
     "text": [
      "No. of images =  20\n"
     ]
    }
   ],
   "source": [
    "image_size = 64\n",
    "no_slices= 64\n",
    "epochs= 50\n",
    "path = \"train_data3D64/\"\n",
    "batch_size = 1\n",
    "ids = next(os.walk(path))[1]\n",
    "# print(ids)\n",
    "print(\"No. of images = \", len(ids))"
   ]
  },
  {
   "cell_type": "code",
   "execution_count": 4,
   "metadata": {},
   "outputs": [],
   "source": [
    "X = np.zeros((len(ids), no_slices, image_size, image_size, 3)).astype(np.float32)\n",
    "y = np.zeros((len(ids), no_slices, image_size, image_size, 1)).astype(np.float32)"
   ]
  },
  {
   "cell_type": "code",
   "execution_count": 5,
   "metadata": {},
   "outputs": [
    {
     "data": {
      "application/vnd.jupyter.widget-view+json": {
       "model_id": "c07c84255ebd4838803e4420939cc92b",
       "version_major": 2,
       "version_minor": 0
      },
      "text/plain": [
       "HBox(children=(FloatProgress(value=0.0, max=20.0), HTML(value='')))"
      ]
     },
     "metadata": {},
     "output_type": "display_data"
    },
    {
     "name": "stdout",
     "output_type": "stream",
     "text": [
      "(64, 64, 64, 1) uint8 (20, 64, 64, 64, 3) float32\n",
      "(64, 64, 64, 1) uint8 (20, 64, 64, 64, 3) float32\n",
      "(64, 64, 64, 1) uint8 (20, 64, 64, 64, 3) float32\n",
      "(64, 64, 64, 1) uint8 (20, 64, 64, 64, 3) float32\n",
      "(64, 64, 64, 1) uint8 (20, 64, 64, 64, 3) float32\n",
      "(64, 64, 64, 1) uint8 (20, 64, 64, 64, 3) float32\n",
      "(64, 64, 64, 1) uint8 (20, 64, 64, 64, 3) float32\n",
      "(64, 64, 64, 1) uint8 (20, 64, 64, 64, 3) float32\n",
      "(64, 64, 64, 1) uint8 (20, 64, 64, 64, 3) float32\n",
      "(64, 64, 64, 1) uint8 (20, 64, 64, 64, 3) float32\n",
      "(64, 64, 64, 1) uint8 (20, 64, 64, 64, 3) float32\n",
      "(64, 64, 64, 1) uint8 (20, 64, 64, 64, 3) float32\n",
      "(64, 64, 64, 1) uint8 (20, 64, 64, 64, 3) float32\n",
      "(64, 64, 64, 1) uint8 (20, 64, 64, 64, 3) float32\n",
      "(64, 64, 64, 1) uint8 (20, 64, 64, 64, 3) float32\n",
      "(64, 64, 64, 1) uint8 (20, 64, 64, 64, 3) float32\n",
      "(64, 64, 64, 1) uint8 (20, 64, 64, 64, 3) float32\n",
      "(64, 64, 64, 1) uint8 (20, 64, 64, 64, 3) float32\n",
      "(64, 64, 64, 1) uint8 (20, 64, 64, 64, 3) float32\n",
      "(64, 64, 64, 1) uint8 (20, 64, 64, 64, 3) float32\n",
      "\n"
     ]
    }
   ],
   "source": [
    "for n, id_ in notebook.tqdm(enumerate(ids), total=len(ids)):\n",
    "    image_sequence = tff.imread(path+id_+\"/images/\"+id_+\".tif\")  \n",
    "    image_sequence = np.expand_dims(image_sequence,axis=3)\n",
    "    \n",
    "    segmented= tff.imread(path+id_+\"/segmented/\"+id_+\".tif\")\n",
    "    segmented = np.expand_dims(segmented,axis=3)\n",
    "    \n",
    "    X[n] = (image_sequence/255.0)\n",
    "    y[n] = (segmented/255.0)\n",
    "    print(image_sequence.shape,image_sequence.dtype, X.shape,X.dtype)"
   ]
  },
  {
   "cell_type": "code",
   "execution_count": 6,
   "metadata": {},
   "outputs": [
    {
     "name": "stdout",
     "output_type": "stream",
     "text": [
      "(20, 64, 64, 64, 3) float32 (20, 64, 64, 64, 1) float32 (64, 64, 64, 1) float32 (64, 64, 64, 1)\n"
     ]
    }
   ],
   "source": [
    "print(X.shape,X.dtype,y.shape,y.dtype,image_sequence.shape,y.dtype,segmented.shape,)"
   ]
  },
  {
   "cell_type": "code",
   "execution_count": 7,
   "metadata": {},
   "outputs": [],
   "source": [
    "X_train, X_test, y_train, y_test = train_test_split(X, y, test_size=0.1, random_state=2020)"
   ]
  },
  {
   "cell_type": "code",
   "execution_count": 8,
   "metadata": {},
   "outputs": [
    {
     "name": "stdout",
     "output_type": "stream",
     "text": [
      "Tomogram dimension in Training =  (18, 64, 64, 64, 3) float32\n",
      "Segmented dimension in Training  =  (18, 64, 64, 64, 1) float32\n",
      "Tomogram dimension in Testing =  (2, 64, 64, 64, 3) float32\n",
      "Segmented dimension in Testing =  (2, 64, 64, 64, 1) float32\n"
     ]
    }
   ],
   "source": [
    "print(\"Tomogram dimension in Training = \", X_train.shape,(X_train*255).dtype)\n",
    "print(\"Segmented dimension in Training  = \",y_train.shape, y_train.dtype)\n",
    "print(\"Tomogram dimension in Testing = \",X_test.shape,X_test.dtype)\n",
    "print(\"Segmented dimension in Testing = \",y_test.shape,y_test.dtype)"
   ]
  },
  {
   "cell_type": "code",
   "execution_count": 9,
   "metadata": {},
   "outputs": [],
   "source": [
    "def batch_Norm_Activation(x, BN=True):\n",
    "    if BN == True:\n",
    "        x = keras.layers.BatchNormalization()(x)\n",
    "        x = keras.layers.Activation(\"relu\")(x)\n",
    "    else:\n",
    "        x = keras.layers.Activation(\"relu\")(x)\n",
    "    return x\n",
    "def Unet3D(featuremaps):\n",
    "    inputs = keras.engine.Input((no_slices, image_size, image_size, 3))\n",
    "    #encoder\n",
    "    conv1 = keras.layers.Conv3D(featuremaps*1, (3,3,3),activation= None, padding = \"same\")(inputs)\n",
    "    conv1 = batch_Norm_Activation(conv1)\n",
    "    conv1 = keras.layers.Conv3D(featuremaps*1, (3,3,3),activation= None, padding = \"same\")(conv1)\n",
    "    conv1 = batch_Norm_Activation(conv1)\n",
    "    pool1  = keras.layers.MaxPooling3D((2,2,2))(conv1)\n",
    "    \n",
    "    conv2 = keras.layers.Conv3D(featuremaps * 2, (3, 3 ,3), activation=None, padding=\"same\")(pool1)\n",
    "    conv2 = batch_Norm_Activation(conv2)\n",
    "    conv2 = keras.layers.Conv3D(featuremaps * 2, (3, 3, 3), activation=None, padding=\"same\")(conv2)\n",
    "    conv2 = batch_Norm_Activation(conv2)\n",
    "    pool2 = keras.layers.MaxPooling3D((2, 2, 2))(conv2)\n",
    "\n",
    "    conv3 = keras.layers.Conv3D(featuremaps * 4, (3, 3, 3), activation=None, padding=\"same\")(pool2)\n",
    "    conv3 = batch_Norm_Activation(conv3)\n",
    "    conv3 = keras.layers.Conv3D(featuremaps * 4, (3, 3, 3), activation=None, padding=\"same\")(conv3)\n",
    "    conv3 = batch_Norm_Activation(conv3)\n",
    "    pool3 = keras.layers.MaxPooling3D((2, 2, 2))(conv3)\n",
    "    \n",
    "    conv4 = keras.layers.Conv3D(featuremaps * 8, (3, 3, 3), activation=None, padding =\"same\")(pool3)\n",
    "    conv4 = batch_Norm_Activation(conv4)\n",
    "    conv4 = keras.layers.Conv3D(featuremaps * 8, (3, 3, 3), activation=None, padding =\"same\")(conv4)\n",
    "    conv4 = batch_Norm_Activation(conv4)\n",
    "    pool4 = keras.layers.MaxPooling3D((2, 2, 2))(conv4)\n",
    "\n",
    "    # bridge\n",
    "    convm = keras.layers.Conv3D(featuremaps * 16, (3, 3, 3), activation=None, padding=\"same\")(pool4)\n",
    "    convm = batch_Norm_Activation(convm)\n",
    "    convm = keras.layers.Conv3D(featuremaps * 16, (3, 3, 3), activation=None, padding=\"same\")(convm)\n",
    "    convm = batch_Norm_Activation(convm)\n",
    "    \n",
    "    #decoder\n",
    "    deconv4 = keras.layers.Conv3DTranspose(featuremaps* 8, (2, 2, 2), strides=(2,2,2), padding =\"same\")(convm)\n",
    "    uconv4 = keras.layers.concatenate([deconv4, conv4])\n",
    "    uconv4 = keras.layers.Conv3D(featuremaps* 8, (2 , 2, 2), activation = None, padding= \"same\")(uconv4)\n",
    "    uconv4 = batch_Norm_Activation(uconv4)\n",
    "    uconv4 = keras.layers.Conv3D(featuremaps* 8, (2 , 2, 2), activation = None, padding= \"same\")(uconv4)\n",
    "    uconv4 = batch_Norm_Activation(uconv4)\n",
    "\n",
    "    \n",
    "    deconv3 = keras.layers.Conv3DTranspose(featuremaps * 4, (2, 2, 2), strides=(2, 2, 2), padding=\"same\")(uconv4)\n",
    "    uconv3 = keras.layers.concatenate([deconv3, conv3])\n",
    "    uconv3 = keras.layers.Conv3D(featuremaps * 4, (2, 2, 2), activation=None, padding=\"same\")(uconv3)\n",
    "    uconv3 = batch_Norm_Activation(uconv3)\n",
    "    uconv3 = keras.layers.Conv3D(featuremaps * 4, (2, 2, 2), activation=None, padding=\"same\")(uconv3)\n",
    "    uconv3 = batch_Norm_Activation(uconv3)\n",
    "\n",
    "    \n",
    "    deconv2 = keras.layers.Conv3DTranspose(featuremaps* 2, (2, 2, 2), strides = (2, 2, 2), padding= \"same\")(uconv3)\n",
    "    uconv2 = keras.layers.concatenate([deconv2, conv2])\n",
    "    uconv2 = keras.layers.Conv3DTranspose(featuremaps* 2, (2, 2, 2), activation = None, padding = \"same\")(uconv2)\n",
    "    uconv2 = batch_Norm_Activation(uconv2)\n",
    "    uconv2 = keras.layers.Conv3DTranspose(featuremaps* 2, (2, 2, 2), activation = None, padding = \"same\")(uconv2)\n",
    "    uconv2 = batch_Norm_Activation(uconv2)\n",
    "\n",
    "\n",
    "    deconv1 = keras.layers.Conv3DTranspose(featuremaps * 1, (2, 2 ,2), strides=(2, 2, 2), padding=\"same\")(uconv2)\n",
    "    uconv1 = keras.layers.concatenate([deconv1, conv1])\n",
    "    uconv1 = keras.layers.Conv3D(featuremaps * 1, (2, 2, 2), activation=None, padding=\"same\")(uconv1)\n",
    "    uconv1 = batch_Norm_Activation(uconv1)\n",
    "    uconv1 = keras.layers.Conv3D(featuremaps * 1, (2, 2,2), activation=None, padding=\"same\")(uconv1)\n",
    "    uconv1 = batch_Norm_Activation(uconv1)\n",
    "\n",
    "    \n",
    "    output_layer = keras.layers.Conv3D(1, (1, 1 ,1), padding=\"same\", activation=\"sigmoid\")(uconv1)\n",
    "    model = keras.models.Model(inputs, output_layer)\n",
    "    return model"
   ]
  },
  {
   "cell_type": "code",
   "execution_count": 10,
   "metadata": {},
   "outputs": [
    {
     "name": "stdout",
     "output_type": "stream",
     "text": [
      "[<tf.Tensor 'input_1:0' shape=(None, 64, 64, 64, 3) dtype=float32>]\n",
      "Model: \"model_1\"\n",
      "__________________________________________________________________________________________________\n",
      "Layer (type)                    Output Shape         Param #     Connected to                     \n",
      "==================================================================================================\n",
      "input_1 (InputLayer)            (None, 64, 64, 64, 3 0                                            \n",
      "__________________________________________________________________________________________________\n",
      "conv3d_1 (Conv3D)               (None, 64, 64, 64, 6 5248        input_1[0][0]                    \n",
      "__________________________________________________________________________________________________\n",
      "batch_normalization_1 (BatchNor (None, 64, 64, 64, 6 256         conv3d_1[0][0]                   \n",
      "__________________________________________________________________________________________________\n",
      "activation_1 (Activation)       (None, 64, 64, 64, 6 0           batch_normalization_1[0][0]      \n",
      "__________________________________________________________________________________________________\n",
      "conv3d_2 (Conv3D)               (None, 64, 64, 64, 6 110656      activation_1[0][0]               \n",
      "__________________________________________________________________________________________________\n",
      "batch_normalization_2 (BatchNor (None, 64, 64, 64, 6 256         conv3d_2[0][0]                   \n",
      "__________________________________________________________________________________________________\n",
      "activation_2 (Activation)       (None, 64, 64, 64, 6 0           batch_normalization_2[0][0]      \n",
      "__________________________________________________________________________________________________\n",
      "max_pooling3d_1 (MaxPooling3D)  (None, 32, 32, 32, 6 0           activation_2[0][0]               \n",
      "__________________________________________________________________________________________________\n",
      "conv3d_3 (Conv3D)               (None, 32, 32, 32, 1 221312      max_pooling3d_1[0][0]            \n",
      "__________________________________________________________________________________________________\n",
      "batch_normalization_3 (BatchNor (None, 32, 32, 32, 1 512         conv3d_3[0][0]                   \n",
      "__________________________________________________________________________________________________\n",
      "activation_3 (Activation)       (None, 32, 32, 32, 1 0           batch_normalization_3[0][0]      \n",
      "__________________________________________________________________________________________________\n",
      "conv3d_4 (Conv3D)               (None, 32, 32, 32, 1 442496      activation_3[0][0]               \n",
      "__________________________________________________________________________________________________\n",
      "batch_normalization_4 (BatchNor (None, 32, 32, 32, 1 512         conv3d_4[0][0]                   \n",
      "__________________________________________________________________________________________________\n",
      "activation_4 (Activation)       (None, 32, 32, 32, 1 0           batch_normalization_4[0][0]      \n",
      "__________________________________________________________________________________________________\n",
      "max_pooling3d_2 (MaxPooling3D)  (None, 16, 16, 16, 1 0           activation_4[0][0]               \n",
      "__________________________________________________________________________________________________\n",
      "conv3d_5 (Conv3D)               (None, 16, 16, 16, 2 884992      max_pooling3d_2[0][0]            \n",
      "__________________________________________________________________________________________________\n",
      "batch_normalization_5 (BatchNor (None, 16, 16, 16, 2 1024        conv3d_5[0][0]                   \n",
      "__________________________________________________________________________________________________\n",
      "activation_5 (Activation)       (None, 16, 16, 16, 2 0           batch_normalization_5[0][0]      \n",
      "__________________________________________________________________________________________________\n",
      "conv3d_6 (Conv3D)               (None, 16, 16, 16, 2 1769728     activation_5[0][0]               \n",
      "__________________________________________________________________________________________________\n",
      "batch_normalization_6 (BatchNor (None, 16, 16, 16, 2 1024        conv3d_6[0][0]                   \n",
      "__________________________________________________________________________________________________\n",
      "activation_6 (Activation)       (None, 16, 16, 16, 2 0           batch_normalization_6[0][0]      \n",
      "__________________________________________________________________________________________________\n",
      "max_pooling3d_3 (MaxPooling3D)  (None, 8, 8, 8, 256) 0           activation_6[0][0]               \n",
      "__________________________________________________________________________________________________\n",
      "conv3d_7 (Conv3D)               (None, 8, 8, 8, 512) 3539456     max_pooling3d_3[0][0]            \n",
      "__________________________________________________________________________________________________\n",
      "batch_normalization_7 (BatchNor (None, 8, 8, 8, 512) 2048        conv3d_7[0][0]                   \n",
      "__________________________________________________________________________________________________\n",
      "activation_7 (Activation)       (None, 8, 8, 8, 512) 0           batch_normalization_7[0][0]      \n",
      "__________________________________________________________________________________________________\n",
      "conv3d_8 (Conv3D)               (None, 8, 8, 8, 512) 7078400     activation_7[0][0]               \n",
      "__________________________________________________________________________________________________\n",
      "batch_normalization_8 (BatchNor (None, 8, 8, 8, 512) 2048        conv3d_8[0][0]                   \n",
      "__________________________________________________________________________________________________\n",
      "activation_8 (Activation)       (None, 8, 8, 8, 512) 0           batch_normalization_8[0][0]      \n",
      "__________________________________________________________________________________________________\n",
      "max_pooling3d_4 (MaxPooling3D)  (None, 4, 4, 4, 512) 0           activation_8[0][0]               \n",
      "__________________________________________________________________________________________________\n",
      "conv3d_9 (Conv3D)               (None, 4, 4, 4, 1024 14156800    max_pooling3d_4[0][0]            \n",
      "__________________________________________________________________________________________________\n",
      "batch_normalization_9 (BatchNor (None, 4, 4, 4, 1024 4096        conv3d_9[0][0]                   \n",
      "__________________________________________________________________________________________________\n",
      "activation_9 (Activation)       (None, 4, 4, 4, 1024 0           batch_normalization_9[0][0]      \n",
      "__________________________________________________________________________________________________\n",
      "conv3d_10 (Conv3D)              (None, 4, 4, 4, 1024 28312576    activation_9[0][0]               \n",
      "__________________________________________________________________________________________________\n",
      "batch_normalization_10 (BatchNo (None, 4, 4, 4, 1024 4096        conv3d_10[0][0]                  \n",
      "__________________________________________________________________________________________________\n",
      "activation_10 (Activation)      (None, 4, 4, 4, 1024 0           batch_normalization_10[0][0]     \n",
      "__________________________________________________________________________________________________\n",
      "conv3d_transpose_1 (Conv3DTrans (None, 8, 8, 8, 512) 4194816     activation_10[0][0]              \n",
      "__________________________________________________________________________________________________\n",
      "concatenate_1 (Concatenate)     (None, 8, 8, 8, 1024 0           conv3d_transpose_1[0][0]         \n",
      "                                                                 activation_8[0][0]               \n",
      "__________________________________________________________________________________________________\n",
      "conv3d_11 (Conv3D)              (None, 8, 8, 8, 512) 4194816     concatenate_1[0][0]              \n",
      "__________________________________________________________________________________________________\n",
      "batch_normalization_11 (BatchNo (None, 8, 8, 8, 512) 2048        conv3d_11[0][0]                  \n",
      "__________________________________________________________________________________________________\n",
      "activation_11 (Activation)      (None, 8, 8, 8, 512) 0           batch_normalization_11[0][0]     \n",
      "__________________________________________________________________________________________________\n",
      "conv3d_12 (Conv3D)              (None, 8, 8, 8, 512) 2097664     activation_11[0][0]              \n",
      "__________________________________________________________________________________________________\n",
      "batch_normalization_12 (BatchNo (None, 8, 8, 8, 512) 2048        conv3d_12[0][0]                  \n",
      "__________________________________________________________________________________________________\n",
      "activation_12 (Activation)      (None, 8, 8, 8, 512) 0           batch_normalization_12[0][0]     \n",
      "__________________________________________________________________________________________________\n",
      "conv3d_transpose_2 (Conv3DTrans (None, 16, 16, 16, 2 1048832     activation_12[0][0]              \n",
      "__________________________________________________________________________________________________\n",
      "concatenate_2 (Concatenate)     (None, 16, 16, 16, 5 0           conv3d_transpose_2[0][0]         \n",
      "                                                                 activation_6[0][0]               \n",
      "__________________________________________________________________________________________________\n",
      "conv3d_13 (Conv3D)              (None, 16, 16, 16, 2 1048832     concatenate_2[0][0]              \n",
      "__________________________________________________________________________________________________\n",
      "batch_normalization_13 (BatchNo (None, 16, 16, 16, 2 1024        conv3d_13[0][0]                  \n",
      "__________________________________________________________________________________________________\n",
      "activation_13 (Activation)      (None, 16, 16, 16, 2 0           batch_normalization_13[0][0]     \n",
      "__________________________________________________________________________________________________\n",
      "conv3d_14 (Conv3D)              (None, 16, 16, 16, 2 524544      activation_13[0][0]              \n",
      "__________________________________________________________________________________________________\n",
      "batch_normalization_14 (BatchNo (None, 16, 16, 16, 2 1024        conv3d_14[0][0]                  \n",
      "__________________________________________________________________________________________________\n",
      "activation_14 (Activation)      (None, 16, 16, 16, 2 0           batch_normalization_14[0][0]     \n",
      "__________________________________________________________________________________________________\n",
      "conv3d_transpose_3 (Conv3DTrans (None, 32, 32, 32, 1 262272      activation_14[0][0]              \n",
      "__________________________________________________________________________________________________\n",
      "concatenate_3 (Concatenate)     (None, 32, 32, 32, 2 0           conv3d_transpose_3[0][0]         \n",
      "                                                                 activation_4[0][0]               \n",
      "__________________________________________________________________________________________________\n",
      "conv3d_transpose_4 (Conv3DTrans (None, 32, 32, 32, 1 262272      concatenate_3[0][0]              \n",
      "__________________________________________________________________________________________________\n",
      "batch_normalization_15 (BatchNo (None, 32, 32, 32, 1 512         conv3d_transpose_4[0][0]         \n",
      "__________________________________________________________________________________________________\n",
      "activation_15 (Activation)      (None, 32, 32, 32, 1 0           batch_normalization_15[0][0]     \n",
      "__________________________________________________________________________________________________\n",
      "conv3d_transpose_5 (Conv3DTrans (None, 32, 32, 32, 1 131200      activation_15[0][0]              \n",
      "__________________________________________________________________________________________________\n",
      "batch_normalization_16 (BatchNo (None, 32, 32, 32, 1 512         conv3d_transpose_5[0][0]         \n",
      "__________________________________________________________________________________________________\n",
      "activation_16 (Activation)      (None, 32, 32, 32, 1 0           batch_normalization_16[0][0]     \n",
      "__________________________________________________________________________________________________\n",
      "conv3d_transpose_6 (Conv3DTrans (None, 64, 64, 64, 6 65600       activation_16[0][0]              \n",
      "__________________________________________________________________________________________________\n",
      "concatenate_4 (Concatenate)     (None, 64, 64, 64, 1 0           conv3d_transpose_6[0][0]         \n",
      "                                                                 activation_2[0][0]               \n",
      "__________________________________________________________________________________________________\n",
      "conv3d_15 (Conv3D)              (None, 64, 64, 64, 6 65600       concatenate_4[0][0]              \n",
      "__________________________________________________________________________________________________\n",
      "batch_normalization_17 (BatchNo (None, 64, 64, 64, 6 256         conv3d_15[0][0]                  \n",
      "__________________________________________________________________________________________________\n",
      "activation_17 (Activation)      (None, 64, 64, 64, 6 0           batch_normalization_17[0][0]     \n",
      "__________________________________________________________________________________________________\n",
      "conv3d_16 (Conv3D)              (None, 64, 64, 64, 6 32832       activation_17[0][0]              \n",
      "__________________________________________________________________________________________________\n",
      "batch_normalization_18 (BatchNo (None, 64, 64, 64, 6 256         conv3d_16[0][0]                  \n",
      "__________________________________________________________________________________________________\n",
      "activation_18 (Activation)      (None, 64, 64, 64, 6 0           batch_normalization_18[0][0]     \n",
      "__________________________________________________________________________________________________\n",
      "conv3d_17 (Conv3D)              (None, 64, 64, 64, 1 65          activation_18[0][0]              \n",
      "==================================================================================================\n",
      "Total params: 70,474,561\n",
      "Trainable params: 70,462,785\n",
      "Non-trainable params: 11,776\n",
      "__________________________________________________________________________________________________\n"
     ]
    }
   ],
   "source": [
    "model= Unet3D(64)\n",
    "print(model.inputs)\n",
    "sgd = keras.optimizers.SGD(lr=0.01, decay=1e-6, momentum=0.9)\n",
    "model.compile(optimizer=sgd, loss=\"mean_squared_error\", metrics=[\"acc\"])\n",
    "model.summary()"
   ]
  },
  {
   "cell_type": "code",
   "execution_count": 11,
   "metadata": {},
   "outputs": [],
   "source": [
    "callbacks = [\n",
    "    keras.callbacks.EarlyStopping(patience=10, verbose=1),\n",
    "    keras.callbacks.ReduceLROnPlateau(factor=0.1, patience=5, min_lr=0.00001, verbose=1),\n",
    "    keras.callbacks.ModelCheckpoint('model-3dtest1.h5', verbose=1, save_best_only=True, save_weights_only=True)\n",
    "]"
   ]
  },
  {
   "cell_type": "code",
   "execution_count": 13,
   "metadata": {},
   "outputs": [
    {
     "name": "stdout",
     "output_type": "stream",
     "text": [
      "Train on 18 samples, validate on 2 samples\n",
      "Epoch 1/50\n",
      "18/18 [==============================] - 29s 2s/step - loss: 0.1059 - acc: 0.6908 - val_loss: 0.1284 - val_acc: 0.8293\n",
      "\n",
      "Epoch 00001: val_loss improved from inf to 0.12839, saving model to model-3dtest1.h5\n",
      "Epoch 2/50\n",
      "18/18 [==============================] - 24s 1s/step - loss: 0.0191 - acc: 0.8065 - val_loss: 0.0793 - val_acc: 0.8293\n",
      "\n",
      "Epoch 00002: val_loss improved from 0.12839 to 0.07932, saving model to model-3dtest1.h5\n",
      "Epoch 3/50\n",
      "18/18 [==============================] - 26s 1s/step - loss: 0.0114 - acc: 0.8073 - val_loss: 0.0567 - val_acc: 0.8293\n",
      "\n",
      "Epoch 00003: val_loss improved from 0.07932 to 0.05671, saving model to model-3dtest1.h5\n",
      "Epoch 4/50\n",
      "18/18 [==============================] - 27s 1s/step - loss: 0.0092 - acc: 0.8074 - val_loss: 0.0454 - val_acc: 0.8293\n",
      "\n",
      "Epoch 00004: val_loss improved from 0.05671 to 0.04538, saving model to model-3dtest1.h5\n",
      "Epoch 5/50\n",
      "18/18 [==============================] - 26s 1s/step - loss: 0.0081 - acc: 0.8074 - val_loss: 0.0401 - val_acc: 0.8293\n",
      "\n",
      "Epoch 00005: val_loss improved from 0.04538 to 0.04008, saving model to model-3dtest1.h5\n",
      "Epoch 6/50\n",
      "18/18 [==============================] - 25s 1s/step - loss: 0.0074 - acc: 0.8074 - val_loss: 0.0370 - val_acc: 0.8293\n",
      "\n",
      "Epoch 00006: val_loss improved from 0.04008 to 0.03698, saving model to model-3dtest1.h5\n",
      "Epoch 7/50\n",
      "18/18 [==============================] - 25s 1s/step - loss: 0.0069 - acc: 0.8074 - val_loss: 0.0357 - val_acc: 0.8293\n",
      "\n",
      "Epoch 00007: val_loss improved from 0.03698 to 0.03574, saving model to model-3dtest1.h5\n",
      "Epoch 8/50\n",
      "18/18 [==============================] - 26s 1s/step - loss: 0.0066 - acc: 0.8074 - val_loss: 0.0353 - val_acc: 0.8293\n",
      "\n",
      "Epoch 00008: val_loss improved from 0.03574 to 0.03529, saving model to model-3dtest1.h5\n",
      "Epoch 9/50\n",
      "18/18 [==============================] - 26s 1s/step - loss: 0.0062 - acc: 0.8074 - val_loss: 0.0350 - val_acc: 0.8293\n",
      "\n",
      "Epoch 00009: val_loss improved from 0.03529 to 0.03495, saving model to model-3dtest1.h5\n",
      "Epoch 10/50\n",
      "18/18 [==============================] - 27s 1s/step - loss: 0.0059 - acc: 0.8074 - val_loss: 0.0346 - val_acc: 0.8293\n",
      "\n",
      "Epoch 00010: val_loss improved from 0.03495 to 0.03459, saving model to model-3dtest1.h5\n",
      "Epoch 11/50\n",
      "18/18 [==============================] - 27s 1s/step - loss: 0.0057 - acc: 0.8074 - val_loss: 0.0341 - val_acc: 0.8293\n",
      "\n",
      "Epoch 00011: val_loss improved from 0.03459 to 0.03411, saving model to model-3dtest1.h5\n",
      "Epoch 12/50\n",
      "18/18 [==============================] - 30s 2s/step - loss: 0.0055 - acc: 0.8074 - val_loss: 0.0333 - val_acc: 0.8293\n",
      "\n",
      "Epoch 00012: val_loss improved from 0.03411 to 0.03328, saving model to model-3dtest1.h5\n",
      "Epoch 13/50\n",
      "18/18 [==============================] - 27s 1s/step - loss: 0.0053 - acc: 0.8074 - val_loss: 0.0318 - val_acc: 0.8293\n",
      "\n",
      "Epoch 00013: val_loss improved from 0.03328 to 0.03180, saving model to model-3dtest1.h5\n",
      "Epoch 14/50\n",
      "18/18 [==============================] - 27s 2s/step - loss: 0.0052 - acc: 0.8074 - val_loss: 0.0309 - val_acc: 0.8293\n",
      "\n",
      "Epoch 00014: val_loss improved from 0.03180 to 0.03092, saving model to model-3dtest1.h5\n",
      "Epoch 15/50\n",
      "18/18 [==============================] - 26s 1s/step - loss: 0.0051 - acc: 0.8074 - val_loss: 0.0292 - val_acc: 0.8293\n",
      "\n",
      "Epoch 00015: val_loss improved from 0.03092 to 0.02922, saving model to model-3dtest1.h5\n",
      "Epoch 16/50\n",
      "18/18 [==============================] - 27s 1s/step - loss: 0.0049 - acc: 0.8074 - val_loss: 0.0277 - val_acc: 0.8293\n",
      "\n",
      "Epoch 00016: val_loss improved from 0.02922 to 0.02772, saving model to model-3dtest1.h5\n",
      "Epoch 17/50\n",
      "18/18 [==============================] - 27s 1s/step - loss: 0.0048 - acc: 0.8074 - val_loss: 0.0254 - val_acc: 0.8293\n",
      "\n",
      "Epoch 00017: val_loss improved from 0.02772 to 0.02543, saving model to model-3dtest1.h5\n",
      "Epoch 18/50\n",
      "18/18 [==============================] - 28s 2s/step - loss: 0.0047 - acc: 0.8074 - val_loss: 0.0231 - val_acc: 0.8293\n",
      "\n",
      "Epoch 00018: val_loss improved from 0.02543 to 0.02307, saving model to model-3dtest1.h5\n",
      "Epoch 19/50\n",
      "18/18 [==============================] - 26s 1s/step - loss: 0.0046 - acc: 0.8074 - val_loss: 0.0214 - val_acc: 0.8293\n",
      "\n",
      "Epoch 00019: val_loss improved from 0.02307 to 0.02144, saving model to model-3dtest1.h5\n",
      "Epoch 20/50\n",
      "18/18 [==============================] - 25s 1s/step - loss: 0.0046 - acc: 0.8074 - val_loss: 0.0175 - val_acc: 0.8293\n",
      "\n",
      "Epoch 00020: val_loss improved from 0.02144 to 0.01748, saving model to model-3dtest1.h5\n",
      "Epoch 21/50\n",
      "18/18 [==============================] - 25s 1s/step - loss: 0.0044 - acc: 0.8074 - val_loss: 0.0165 - val_acc: 0.8292\n",
      "\n",
      "Epoch 00021: val_loss improved from 0.01748 to 0.01654, saving model to model-3dtest1.h5\n",
      "Epoch 22/50\n",
      "18/18 [==============================] - 25s 1s/step - loss: 0.0044 - acc: 0.8074 - val_loss: 0.0148 - val_acc: 0.8292\n",
      "\n",
      "Epoch 00022: val_loss improved from 0.01654 to 0.01476, saving model to model-3dtest1.h5\n",
      "Epoch 23/50\n",
      "18/18 [==============================] - 26s 1s/step - loss: 0.0043 - acc: 0.8074 - val_loss: 0.0133 - val_acc: 0.8292\n",
      "\n",
      "Epoch 00023: val_loss improved from 0.01476 to 0.01325, saving model to model-3dtest1.h5\n",
      "Epoch 24/50\n",
      "18/18 [==============================] - 25s 1s/step - loss: 0.0043 - acc: 0.8074 - val_loss: 0.0120 - val_acc: 0.8292\n",
      "\n",
      "Epoch 00024: val_loss improved from 0.01325 to 0.01198, saving model to model-3dtest1.h5\n",
      "Epoch 25/50\n",
      "18/18 [==============================] - 25s 1s/step - loss: 0.0042 - acc: 0.8074 - val_loss: 0.0101 - val_acc: 0.8292\n",
      "\n",
      "Epoch 00025: val_loss improved from 0.01198 to 0.01006, saving model to model-3dtest1.h5\n",
      "Epoch 26/50\n",
      "18/18 [==============================] - 26s 1s/step - loss: 0.0042 - acc: 0.8074 - val_loss: 0.0084 - val_acc: 0.8292\n",
      "\n",
      "Epoch 00026: val_loss improved from 0.01006 to 0.00839, saving model to model-3dtest1.h5\n",
      "Epoch 27/50\n",
      "18/18 [==============================] - 25s 1s/step - loss: 0.0041 - acc: 0.8074 - val_loss: 0.0085 - val_acc: 0.8292\n",
      "\n",
      "Epoch 00027: val_loss did not improve from 0.00839\n",
      "Epoch 28/50\n",
      "18/18 [==============================] - 25s 1s/step - loss: 0.0041 - acc: 0.8074 - val_loss: 0.0070 - val_acc: 0.8293\n",
      "\n",
      "Epoch 00028: val_loss improved from 0.00839 to 0.00697, saving model to model-3dtest1.h5\n",
      "Epoch 29/50\n",
      "18/18 [==============================] - 24s 1s/step - loss: 0.0041 - acc: 0.8074 - val_loss: 0.0061 - val_acc: 0.8293\n",
      "\n",
      "Epoch 00029: val_loss improved from 0.00697 to 0.00606, saving model to model-3dtest1.h5\n",
      "Epoch 30/50\n",
      "18/18 [==============================] - 24s 1s/step - loss: 0.0040 - acc: 0.8074 - val_loss: 0.0055 - val_acc: 0.8293\n",
      "\n",
      "Epoch 00030: val_loss improved from 0.00606 to 0.00548, saving model to model-3dtest1.h5\n",
      "Epoch 31/50\n",
      "18/18 [==============================] - 24s 1s/step - loss: 0.0039 - acc: 0.8074 - val_loss: 0.0050 - val_acc: 0.8293\n",
      "\n",
      "Epoch 00031: val_loss improved from 0.00548 to 0.00501, saving model to model-3dtest1.h5\n",
      "Epoch 32/50\n",
      "18/18 [==============================] - 25s 1s/step - loss: 0.0039 - acc: 0.8074 - val_loss: 0.0046 - val_acc: 0.8293\n",
      "\n",
      "Epoch 00032: val_loss improved from 0.00501 to 0.00457, saving model to model-3dtest1.h5\n",
      "Epoch 33/50\n",
      "18/18 [==============================] - 25s 1s/step - loss: 0.0039 - acc: 0.8074 - val_loss: 0.0043 - val_acc: 0.8293\n",
      "\n",
      "Epoch 00033: val_loss improved from 0.00457 to 0.00434, saving model to model-3dtest1.h5\n",
      "Epoch 34/50\n",
      "18/18 [==============================] - 25s 1s/step - loss: 0.0038 - acc: 0.8074 - val_loss: 0.0040 - val_acc: 0.8293\n",
      "\n",
      "Epoch 00034: val_loss improved from 0.00434 to 0.00399, saving model to model-3dtest1.h5\n",
      "Epoch 35/50\n",
      "18/18 [==============================] - 25s 1s/step - loss: 0.0038 - acc: 0.8074 - val_loss: 0.0038 - val_acc: 0.8293\n",
      "\n",
      "Epoch 00035: val_loss improved from 0.00399 to 0.00379, saving model to model-3dtest1.h5\n",
      "Epoch 36/50\n",
      "18/18 [==============================] - 24s 1s/step - loss: 0.0038 - acc: 0.8074 - val_loss: 0.0039 - val_acc: 0.8293\n",
      "\n",
      "Epoch 00036: val_loss did not improve from 0.00379\n",
      "Epoch 37/50\n",
      "18/18 [==============================] - 25s 1s/step - loss: 0.0038 - acc: 0.8074 - val_loss: 0.0038 - val_acc: 0.8293\n",
      "\n",
      "Epoch 00037: val_loss did not improve from 0.00379\n",
      "Epoch 38/50\n",
      "18/18 [==============================] - 25s 1s/step - loss: 0.0037 - acc: 0.8074 - val_loss: 0.0033 - val_acc: 0.8293\n"
     ]
    },
    {
     "name": "stdout",
     "output_type": "stream",
     "text": [
      "\n",
      "Epoch 00038: val_loss improved from 0.00379 to 0.00333, saving model to model-3dtest1.h5\n",
      "Epoch 39/50\n",
      "18/18 [==============================] - 24s 1s/step - loss: 0.0037 - acc: 0.8074 - val_loss: 0.0034 - val_acc: 0.8293\n",
      "\n",
      "Epoch 00039: val_loss did not improve from 0.00333\n",
      "Epoch 40/50\n",
      "18/18 [==============================] - 25s 1s/step - loss: 0.0037 - acc: 0.8074 - val_loss: 0.0032 - val_acc: 0.8293\n",
      "\n",
      "Epoch 00040: val_loss improved from 0.00333 to 0.00319, saving model to model-3dtest1.h5\n",
      "Epoch 41/50\n",
      "18/18 [==============================] - 25s 1s/step - loss: 0.0037 - acc: 0.8074 - val_loss: 0.0034 - val_acc: 0.8293\n",
      "\n",
      "Epoch 00041: val_loss did not improve from 0.00319\n",
      "Epoch 42/50\n",
      "18/18 [==============================] - 25s 1s/step - loss: 0.0036 - acc: 0.8074 - val_loss: 0.0031 - val_acc: 0.8293\n",
      "\n",
      "Epoch 00042: val_loss improved from 0.00319 to 0.00310, saving model to model-3dtest1.h5\n",
      "Epoch 43/50\n",
      "18/18 [==============================] - 24s 1s/step - loss: 0.0037 - acc: 0.8074 - val_loss: 0.0030 - val_acc: 0.8293\n",
      "\n",
      "Epoch 00043: val_loss improved from 0.00310 to 0.00303, saving model to model-3dtest1.h5\n",
      "Epoch 44/50\n",
      "18/18 [==============================] - 25s 1s/step - loss: 0.0036 - acc: 0.8074 - val_loss: 0.0032 - val_acc: 0.8293\n",
      "\n",
      "Epoch 00044: val_loss did not improve from 0.00303\n",
      "Epoch 45/50\n",
      "18/18 [==============================] - 25s 1s/step - loss: 0.0036 - acc: 0.8074 - val_loss: 0.0032 - val_acc: 0.8293\n",
      "\n",
      "Epoch 00045: val_loss did not improve from 0.00303\n",
      "Epoch 46/50\n",
      "18/18 [==============================] - 25s 1s/step - loss: 0.0035 - acc: 0.8074 - val_loss: 0.0032 - val_acc: 0.8293\n",
      "\n",
      "Epoch 00046: val_loss did not improve from 0.00303\n",
      "Epoch 47/50\n",
      "18/18 [==============================] - 25s 1s/step - loss: 0.0036 - acc: 0.8074 - val_loss: 0.0031 - val_acc: 0.8293\n",
      "\n",
      "Epoch 00047: val_loss did not improve from 0.00303\n",
      "Epoch 48/50\n",
      "18/18 [==============================] - 25s 1s/step - loss: 0.0035 - acc: 0.8074 - val_loss: 0.0029 - val_acc: 0.8293\n",
      "\n",
      "Epoch 00048: ReduceLROnPlateau reducing learning rate to 0.0009999999776482583.\n",
      "\n",
      "Epoch 00048: val_loss improved from 0.00303 to 0.00294, saving model to model-3dtest1.h5\n",
      "Epoch 49/50\n",
      "18/18 [==============================] - 25s 1s/step - loss: 0.0034 - acc: 0.8074 - val_loss: 0.0028 - val_acc: 0.8293\n",
      "\n",
      "Epoch 00049: val_loss improved from 0.00294 to 0.00279, saving model to model-3dtest1.h5\n",
      "Epoch 50/50\n",
      "18/18 [==============================] - 25s 1s/step - loss: 0.0035 - acc: 0.8074 - val_loss: 0.0028 - val_acc: 0.8293\n",
      "\n",
      "Epoch 00050: val_loss improved from 0.00279 to 0.00277, saving model to model-3dtest1.h5\n"
     ]
    }
   ],
   "source": [
    "hist = model.fit(X_train, y_train, batch_size=batch_size, epochs=epochs,callbacks=callbacks,\\\n",
    "                    validation_data=(X_test, y_test))"
   ]
  },
  {
   "cell_type": "code",
   "execution_count": 14,
   "metadata": {},
   "outputs": [
    {
     "data": {
      "image/png": "[encoded data removed]",
      "text/plain": [
       "<Figure size 576x360 with 1 Axes>"
      ]
     },
     "metadata": {
      "needs_background": "light"
     },
     "output_type": "display_data"
    }
   ],
   "source": [
    "plt.figure(figsize=(8, 5))\n",
    "plt.title(\"Learning curve\")\n",
    "plt.plot(hist.history[\"loss\"], label=\"loss\")\n",
    "plt.plot(hist.history[\"val_loss\"], label=\"val_loss\")\n",
    "plt.plot( np.argmin(hist.history[\"val_loss\"]), np.min(hist.history[\"val_loss\"]), marker=\"x\", color=\"r\", label=\"best model\")\n",
    "plt.xlabel(\"Epochs\")\n",
    "plt.ylabel(\"log_loss\")\n",
    "plt.legend();"
   ]
  },
  {
   "cell_type": "code",
   "execution_count": 15,
   "metadata": {},
   "outputs": [
    {
     "name": "stdout",
     "output_type": "stream",
     "text": [
      "\r",
      "2/2 [==============================] - 4s 2s/step\n"
     ]
    },
    {
     "data": {
      "text/plain": [
       "[0.0027675125747919083, 0.8292827606201172]"
      ]
     },
     "execution_count": 15,
     "metadata": {},
     "output_type": "execute_result"
    }
   ],
   "source": [
    "model.load_weights('model-3dtest1.h5')\n",
    "model.evaluate(X_test, y_test, verbose=1) \n"
   ]
  },
  {
   "cell_type": "code",
   "execution_count": 18,
   "metadata": {},
   "outputs": [
    {
     "name": "stdout",
     "output_type": "stream",
     "text": [
      "2/2 [==============================] - 1s 314ms/step\n",
      "2/2 [==============================] - 1s 282ms/step\n"
     ]
    }
   ],
   "source": [
    "preds_test = model.predict(X_test, verbose=1)\n",
    "preds_train= model.predict(X_train[0:2], verbose=1)"
   ]
  },
  {
   "cell_type": "code",
   "execution_count": 19,
   "metadata": {},
   "outputs": [
    {
     "name": "stdout",
     "output_type": "stream",
     "text": [
      "(18, 64, 64, 64, 3) (20, 64, 64, 64, 3)\n",
      "(2, 64, 64, 64, 3)\n",
      "(2, 64, 64, 64, 1)\n"
     ]
    }
   ],
   "source": [
    "print(X_train.shape,X.shape)\n",
    "print(X_test.shape)\n",
    "print(preds_test.shape)"
   ]
  },
  {
   "cell_type": "code",
   "execution_count": 20,
   "metadata": {},
   "outputs": [],
   "source": [
    "def save_sample(X, y, preds, r=None):\n",
    "    if r is None:\n",
    "        r = random.randint(0, len(X))\n",
    "        print(r)\n",
    "        \n",
    "    X1= X[r,...,0].squeeze()\n",
    "    tff.imwrite('tomogram1.tif', X1 , imagej=True)\n",
    "    print(X1.shape,X1.dtype)\n",
    "        \n",
    "    y1 = y[r].squeeze()\n",
    "    tff.imwrite('GR1.tif', y1 , imagej=False)\n",
    "    print(y1.shape,y1.dtype)\n",
    "\n",
    "    preds1=preds[r].squeeze()\n",
    "    tff.imwrite('predicted1.tif',preds1, imagej=True)\n",
    "    print(preds1.shape,preds1.dtype)\n"
   ]
  },
  {
   "cell_type": "code",
   "execution_count": 21,
   "metadata": {},
   "outputs": [
    {
     "name": "stdout",
     "output_type": "stream",
     "text": [
      "(64, 64, 64) float32\n",
      "(64, 64, 64) float32\n",
      "(64, 64, 64) float32\n"
     ]
    }
   ],
   "source": [
    "save_sample(X_test,y_test,preds_test,r=0)"
   ]
  },
  {
   "cell_type": "code",
   "execution_count": null,
   "metadata": {},
   "outputs": [],
   "source": [
    "save_sample(X_train,y_train,preds_train, r=3)"
   ]
  }
 ],
 "metadata": {
  "kernelspec": {
   "display_name": "tensorgpu",
   "language": "python",
   "name": "tensorgpu"
  },
  "language_info": {
   "codemirror_mode": {
    "name": "ipython",
    "version": 3
   },
   "file_extension": ".py",
   "mimetype": "text/x-python",
   "name": "python",
   "nbconvert_exporter": "python",
   "pygments_lexer": "ipython3",
   "version": "3.7.6"
  }
 },
 "nbformat": 4,
 "nbformat_minor": 4
}
